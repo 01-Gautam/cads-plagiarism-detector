{
 "cells": [
  {
   "cell_type": "code",
   "execution_count": 6,
   "id": "6ab57cd0-02e2-4be0-9a0e-2fa9550fc59b",
   "metadata": {},
   "outputs": [
    {
     "name": "stdout",
     "output_type": "stream",
     "text": [
      "  0.00: Generating file fingerprints\n"
     ]
    },
    {
     "name": "stderr",
     "output_type": "stream",
     "text": [
      "   100%|█████████████████████████████████████████████████████████████████████████████████| 6/6 [00:00<00:00,  8.88it/s]\n"
     ]
    },
    {
     "name": "stdout",
     "output_type": "stream",
     "text": [
      "  0.68: Beginning code comparison\n"
     ]
    },
    {
     "name": "stderr",
     "output_type": "stream",
     "text": [
      "   100%|█████████████████████████████████████████████████████████████████████████████████████████| 3/3 [00:00<?, ?it/s]"
     ]
    },
    {
     "name": "stdout",
     "output_type": "stream",
     "text": [
      "  0.70: Code comparison completed\n"
     ]
    },
    {
     "name": "stderr",
     "output_type": "stream",
     "text": [
      "\n"
     ]
    }
   ],
   "source": [
    "from copydetect import CopyDetector\n",
    "detector = CopyDetector(test_dirs=[\"tests\"], extensions=[\"c\"], display_t=0.5)\n",
    "detector.add_file(\"copydetect/utils.py\")\n",
    "detector.run()"
   ]
  },
  {
   "cell_type": "code",
   "execution_count": 2,
   "id": "4b1d243c-6a23-4389-945a-4753e2c329b3",
   "metadata": {},
   "outputs": [
    {
     "name": "stdout",
     "output_type": "stream",
     "text": [
      "Output saved to ./report.html\n"
     ]
    }
   ],
   "source": [
    "detector.generate_html_report()"
   ]
  },
  {
   "cell_type": "code",
   "execution_count": null,
   "id": "8a2dbcc8-0d74-4d78-b97d-c7e508c61d66",
   "metadata": {},
   "outputs": [],
   "source": []
  }
 ],
 "metadata": {
  "kernelspec": {
   "display_name": "Python [conda env:base] *",
   "language": "python",
   "name": "conda-base-py"
  },
  "language_info": {
   "codemirror_mode": {
    "name": "ipython",
    "version": 3
   },
   "file_extension": ".py",
   "mimetype": "text/x-python",
   "name": "python",
   "nbconvert_exporter": "python",
   "pygments_lexer": "ipython3",
   "version": "3.12.7"
  }
 },
 "nbformat": 4,
 "nbformat_minor": 5
}
